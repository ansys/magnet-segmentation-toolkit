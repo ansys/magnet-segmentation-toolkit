{
 "cells": [
  {
   "cell_type": "markdown",
   "id": "4c637cc9",
   "metadata": {},
   "source": [
    "# Maxwell 3D segmentation\n",
    "\n",
    "This example shows how to use the Magnet Segmentation Toolkit to segment\n",
    "your AEDT motor model."
   ]
  },
  {
   "cell_type": "markdown",
   "id": "834c825f",
   "metadata": {},
   "source": [
    "## Perform required imports\n",
    "\n",
    "Perform required imports."
   ]
  },
  {
   "cell_type": "code",
   "execution_count": 1,
   "id": "4f67a0b1",
   "metadata": {
    "execution": {
     "iopub.execute_input": "2025-07-17T15:48:08.465725Z",
     "iopub.status.busy": "2025-07-17T15:48:08.465725Z",
     "iopub.status.idle": "2025-07-17T15:48:09.745952Z",
     "shell.execute_reply": "2025-07-17T15:48:09.745952Z"
    }
   },
   "outputs": [],
   "source": [
    "import os\n",
    "import shutil\n",
    "import tempfile\n",
    "\n",
    "from ansys.aedt.toolkits.common.utils import download_file\n",
    "\n",
    "from ansys.aedt.toolkits.magnet_segmentation.backend.api import ToolkitBackend\n"
   ]
  },
  {
   "cell_type": "markdown",
   "id": "05f185b9",
   "metadata": {},
   "source": [
    "## Initialize temporary folder and project settings\n",
    "\n",
    "Initialize a temporary folder to copy the input file into\n",
    "and specify project settings."
   ]
  },
  {
   "cell_type": "code",
   "execution_count": 2,
   "id": "60857dee",
   "metadata": {
    "execution": {
     "iopub.execute_input": "2025-07-17T15:48:09.745952Z",
     "iopub.status.busy": "2025-07-17T15:48:09.745952Z",
     "iopub.status.idle": "2025-07-17T15:48:10.103460Z",
     "shell.execute_reply": "2025-07-17T15:48:10.103460Z"
    }
   },
   "outputs": [],
   "source": [
    "URL_BASE = \"https://raw.githubusercontent.com/ansys/example-data/master/toolkits/magnet_segmentation/\"\n",
    "AEDT_PROJECT = \"e9_eMobility_IPM_3D\"\n",
    "URL = os.path.join(URL_BASE, AEDT_PROJECT + \".aedt\")\n",
    "\n",
    "temp_dir = tempfile.TemporaryDirectory(suffix=\".ansys\")\n",
    "active_project = os.path.join(temp_dir.name, AEDT_PROJECT + \".aedt\")\n",
    "download_file(URL, active_project)\n",
    "active_design = \"e9_eMobility_IPM_3D_test\""
   ]
  },
  {
   "cell_type": "markdown",
   "id": "a64db7c8",
   "metadata": {},
   "source": [
    "## Initialize toolkit\n",
    "\n",
    "Initialize the toolkit."
   ]
  },
  {
   "cell_type": "code",
   "execution_count": 3,
   "id": "4f1a2a86",
   "metadata": {
    "execution": {
     "iopub.execute_input": "2025-07-17T15:48:10.103460Z",
     "iopub.status.busy": "2025-07-17T15:48:10.103460Z",
     "iopub.status.idle": "2025-07-17T15:48:10.110910Z",
     "shell.execute_reply": "2025-07-17T15:48:10.110910Z"
    }
   },
   "outputs": [],
   "source": [
    "toolkit = ToolkitBackend()"
   ]
  },
  {
   "cell_type": "markdown",
   "id": "f7e0befc",
   "metadata": {},
   "source": [
    "## Get toolkit properties\n",
    "\n",
    "Get the toolkit properties."
   ]
  },
  {
   "cell_type": "code",
   "execution_count": 4,
   "id": "cad2dd43",
   "metadata": {
    "execution": {
     "iopub.execute_input": "2025-07-17T15:48:10.110910Z",
     "iopub.status.busy": "2025-07-17T15:48:10.110910Z",
     "iopub.status.idle": "2025-07-17T15:48:10.119572Z",
     "shell.execute_reply": "2025-07-17T15:48:10.119572Z"
    }
   },
   "outputs": [],
   "source": [
    "properties = toolkit.get_properties()"
   ]
  },
  {
   "cell_type": "markdown",
   "id": "55751600",
   "metadata": {},
   "source": [
    "## Initialize properties\n",
    "\n",
    "Initialize a dictionary of properties."
   ]
  },
  {
   "cell_type": "code",
   "execution_count": 5,
   "id": "b41bb860",
   "metadata": {
    "execution": {
     "iopub.execute_input": "2025-07-17T15:48:10.119572Z",
     "iopub.status.busy": "2025-07-17T15:48:10.119572Z",
     "iopub.status.idle": "2025-07-17T15:48:10.127263Z",
     "shell.execute_reply": "2025-07-17T15:48:10.127263Z"
    }
   },
   "outputs": [],
   "source": [
    "properties[\"aedt_version\"] = \"2025.1\"\n",
    "properties[\"active_project\"] = AEDT_PROJECT\n",
    "properties[\"active_design\"] = active_design\n",
    "properties[\"design_list\"] = {AEDT_PROJECT: [active_design]}\n",
    "properties[\"is_skewed\"] = False\n",
    "properties[\"rotor_material\"] = \"M250-35A_20C\"\n",
    "properties[\"stator_material\"] = \"M250-35A_20C\"\n",
    "properties[\"magnets_material\"] = \"N30UH_65C\"\n",
    "properties[\"magnet_segments_per_slice\"] = 2\n",
    "properties[\"rotor_slices\"] = 2\n",
    "properties[\"apply_mesh_sheets\"] = False\n",
    "# properties[\"mesh_sheets_number\"] = 3\n",
    "properties[\"skew_angle\"] = \"2deg\""
   ]
  },
  {
   "cell_type": "markdown",
   "id": "6df28813",
   "metadata": {},
   "source": [
    "## Set non-graphical mode\n",
    "\n",
    "Set non-graphical mode. The default value is ``False``."
   ]
  },
  {
   "cell_type": "code",
   "execution_count": 6,
   "id": "3f70b1aa",
   "metadata": {
    "execution": {
     "iopub.execute_input": "2025-07-17T15:48:10.127263Z",
     "iopub.status.busy": "2025-07-17T15:48:10.127263Z",
     "iopub.status.idle": "2025-07-17T15:48:10.133475Z",
     "shell.execute_reply": "2025-07-17T15:48:10.133475Z"
    }
   },
   "outputs": [],
   "source": [
    "properties[\"non_graphical\"] = False"
   ]
  },
  {
   "cell_type": "markdown",
   "id": "38efa4c6",
   "metadata": {},
   "source": [
    "## Set properties\n",
    "\n",
    "Set properties."
   ]
  },
  {
   "cell_type": "code",
   "execution_count": 7,
   "id": "ae7768a7",
   "metadata": {
    "execution": {
     "iopub.execute_input": "2025-07-17T15:48:10.133475Z",
     "iopub.status.busy": "2025-07-17T15:48:10.133475Z",
     "iopub.status.idle": "2025-07-17T15:48:10.144463Z",
     "shell.execute_reply": "2025-07-17T15:48:10.144463Z"
    }
   },
   "outputs": [
    {
     "name": "stderr",
     "output_type": "stream",
     "text": [
      "INFO - Updating internal properties.\n"
     ]
    },
    {
     "data": {
      "text/plain": [
       "(True, 'Properties were updated successfully.')"
      ]
     },
     "execution_count": 7,
     "metadata": {},
     "output_type": "execute_result"
    }
   ],
   "source": [
    "toolkit.set_properties(properties)"
   ]
  },
  {
   "cell_type": "markdown",
   "id": "6d5153de",
   "metadata": {},
   "source": [
    "## Initialize AEDT\n",
    "\n",
    "Launch a new AEDT session."
   ]
  },
  {
   "cell_type": "code",
   "execution_count": 8,
   "id": "f0264304",
   "metadata": {
    "execution": {
     "iopub.execute_input": "2025-07-17T15:48:10.144463Z",
     "iopub.status.busy": "2025-07-17T15:48:10.144463Z",
     "iopub.status.idle": "2025-07-17T15:48:15.512698Z",
     "shell.execute_reply": "2025-07-17T15:48:15.512698Z"
    }
   },
   "outputs": [
    {
     "name": "stderr",
     "output_type": "stream",
     "text": [
      "INFO - AEDT is released.\n"
     ]
    },
    {
     "data": {
      "text/plain": [
       "True"
      ]
     },
     "execution_count": 8,
     "metadata": {},
     "output_type": "execute_result"
    }
   ],
   "source": [
    "toolkit.launch_aedt()"
   ]
  },
  {
   "cell_type": "markdown",
   "id": "32bab6d8",
   "metadata": {},
   "source": [
    "## Open project\n",
    "\n",
    "Open the project."
   ]
  },
  {
   "cell_type": "code",
   "execution_count": 9,
   "id": "a1b0909b",
   "metadata": {
    "execution": {
     "iopub.execute_input": "2025-07-17T15:48:15.512698Z",
     "iopub.status.busy": "2025-07-17T15:48:15.512698Z",
     "iopub.status.idle": "2025-07-17T15:48:39.882884Z",
     "shell.execute_reply": "2025-07-17T15:48:39.882884Z"
    }
   },
   "outputs": [
    {
     "name": "stderr",
     "output_type": "stream",
     "text": [
      "INFO - Updating internal properties.\n"
     ]
    },
    {
     "name": "stderr",
     "output_type": "stream",
     "text": [
      "INFO - AEDT is released.\n"
     ]
    },
    {
     "data": {
      "text/plain": [
       "True"
      ]
     },
     "execution_count": 9,
     "metadata": {},
     "output_type": "execute_result"
    }
   ],
   "source": [
    "toolkit.open_project(active_project)"
   ]
  },
  {
   "cell_type": "markdown",
   "id": "da614ba9",
   "metadata": {},
   "source": [
    "## Connect design\n",
    "\n",
    "Connect or create a new design."
   ]
  },
  {
   "cell_type": "code",
   "execution_count": 10,
   "id": "8298fb52",
   "metadata": {
    "execution": {
     "iopub.execute_input": "2025-07-17T15:48:39.882884Z",
     "iopub.status.busy": "2025-07-17T15:48:39.882884Z",
     "iopub.status.idle": "2025-07-17T15:48:40.037373Z",
     "shell.execute_reply": "2025-07-17T15:48:40.037373Z"
    }
   },
   "outputs": [
    {
     "name": "stderr",
     "output_type": "stream",
     "text": [
      "INFO - Toolkit is connected to AEDT design.\n"
     ]
    },
    {
     "data": {
      "text/plain": [
       "True"
      ]
     },
     "execution_count": 10,
     "metadata": {},
     "output_type": "execute_result"
    }
   ],
   "source": [
    "toolkit.connect_design()"
   ]
  },
  {
   "cell_type": "markdown",
   "id": "62a3dcd2",
   "metadata": {},
   "source": [
    "## Apply segmentation\n",
    "\n",
    "Apply segmentation and assign the relative coordinate system."
   ]
  },
  {
   "cell_type": "code",
   "execution_count": 11,
   "id": "f6cbe1d6",
   "metadata": {
    "execution": {
     "iopub.execute_input": "2025-07-17T15:48:40.037373Z",
     "iopub.status.busy": "2025-07-17T15:48:40.037373Z",
     "iopub.status.idle": "2025-07-17T15:49:03.773131Z",
     "shell.execute_reply": "2025-07-17T15:49:03.773131Z"
    }
   },
   "outputs": [
    {
     "name": "stderr",
     "output_type": "stream",
     "text": [
      "INFO - AEDT is released.\n"
     ]
    },
    {
     "name": "stderr",
     "output_type": "stream",
     "text": [
      "INFO - Toolkit is connected to AEDT design.\n"
     ]
    },
    {
     "name": "stderr",
     "output_type": "stream",
     "text": [
      "INFO - Updating internal properties.\n"
     ]
    },
    {
     "name": "stderr",
     "output_type": "stream",
     "text": [
      "INFO - Updating internal properties.\n"
     ]
    },
    {
     "name": "stderr",
     "output_type": "stream",
     "text": [
      "INFO - AEDT is released.\n"
     ]
    },
    {
     "data": {
      "text/plain": [
       "True"
      ]
     },
     "execution_count": 11,
     "metadata": {},
     "output_type": "execute_result"
    }
   ],
   "source": [
    "toolkit.segmentation()"
   ]
  },
  {
   "cell_type": "markdown",
   "id": "53558c41",
   "metadata": {},
   "source": [
    "## Apply skew angle\n",
    "\n",
    "Apply the skew angle to rotor slices."
   ]
  },
  {
   "cell_type": "code",
   "execution_count": 12,
   "id": "b621d096",
   "metadata": {
    "execution": {
     "iopub.execute_input": "2025-07-17T15:49:03.773131Z",
     "iopub.status.busy": "2025-07-17T15:49:03.773131Z",
     "iopub.status.idle": "2025-07-17T15:49:13.117584Z",
     "shell.execute_reply": "2025-07-17T15:49:13.117584Z"
    }
   },
   "outputs": [
    {
     "name": "stderr",
     "output_type": "stream",
     "text": [
      "INFO - Toolkit is connected to AEDT design.\n"
     ]
    },
    {
     "name": "stderr",
     "output_type": "stream",
     "text": [
      "INFO - AEDT is released.\n"
     ]
    },
    {
     "data": {
      "text/plain": [
       "True"
      ]
     },
     "execution_count": 12,
     "metadata": {},
     "output_type": "execute_result"
    }
   ],
   "source": [
    "toolkit.apply_skew()"
   ]
  },
  {
   "cell_type": "markdown",
   "id": "4e558e25",
   "metadata": {},
   "source": [
    "## Validate and analyze design\n",
    "\n",
    "Uncomment the line to validate and analyze the design."
   ]
  },
  {
   "cell_type": "markdown",
   "id": "eae5ef9e",
   "metadata": {},
   "source": [
    "toolkit.validate_and_analyze()"
   ]
  },
  {
   "cell_type": "markdown",
   "id": "6c22e0f9",
   "metadata": {},
   "source": [
    "## Create magnet loss report\n",
    "\n",
    "Uncomment the lines to create magnet loss report and compute average value."
   ]
  },
  {
   "cell_type": "markdown",
   "id": "28a66af1",
   "metadata": {},
   "source": [
    "magnet_loss = toolkit.get_magnet_loss()\n",
    "print(f\"Average magnet loss: {magnet_loss} W\")"
   ]
  },
  {
   "cell_type": "markdown",
   "id": "c0af60a7",
   "metadata": {},
   "source": [
    "## Save and release AEDT\n",
    "\n",
    "Save and release AEDT."
   ]
  },
  {
   "cell_type": "markdown",
   "id": "b1cfd47b",
   "metadata": {},
   "source": [
    "toolkit.save_project()"
   ]
  },
  {
   "cell_type": "code",
   "execution_count": 13,
   "id": "49016adc",
   "metadata": {
    "execution": {
     "iopub.execute_input": "2025-07-17T15:49:13.117584Z",
     "iopub.status.busy": "2025-07-17T15:49:13.117584Z",
     "iopub.status.idle": "2025-07-17T15:49:18.534582Z",
     "shell.execute_reply": "2025-07-17T15:49:18.534582Z"
    }
   },
   "outputs": [
    {
     "name": "stderr",
     "output_type": "stream",
     "text": [
      "INFO - AEDT is released.\n"
     ]
    },
    {
     "data": {
      "text/plain": [
       "True"
      ]
     },
     "execution_count": 13,
     "metadata": {},
     "output_type": "execute_result"
    }
   ],
   "source": [
    "toolkit.release_aedt(True, True)"
   ]
  },
  {
   "cell_type": "markdown",
   "id": "9a2844ff",
   "metadata": {},
   "source": [
    "## Remove temporary folder\n",
    "\n",
    "Remove the temporary folder."
   ]
  },
  {
   "cell_type": "code",
   "execution_count": 14,
   "id": "5c5a8cf4",
   "metadata": {
    "execution": {
     "iopub.execute_input": "2025-07-17T15:49:18.534582Z",
     "iopub.status.busy": "2025-07-17T15:49:18.534582Z",
     "iopub.status.idle": "2025-07-17T15:49:18.553631Z",
     "shell.execute_reply": "2025-07-17T15:49:18.553631Z"
    }
   },
   "outputs": [],
   "source": [
    "shutil.rmtree(temp_dir.name, ignore_errors=True)"
   ]
  }
 ],
 "metadata": {
  "jupytext": {
   "cell_metadata_filter": "-all",
   "main_language": "python",
   "notebook_metadata_filter": "-all",
   "text_representation": {
    "extension": ".py",
    "format_name": "light"
   }
  },
  "language_info": {
   "codemirror_mode": {
    "name": "ipython",
    "version": 3
   },
   "file_extension": ".py",
   "mimetype": "text/x-python",
   "name": "python",
   "nbconvert_exporter": "python",
   "pygments_lexer": "ipython3",
   "version": "3.12.10"
  }
 },
 "nbformat": 4,
 "nbformat_minor": 5
}
