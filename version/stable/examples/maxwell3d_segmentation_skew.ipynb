{
 "cells": [
  {
   "cell_type": "markdown",
   "id": "bd811766",
   "metadata": {},
   "source": [
    "# Maxwell 3D segmentation\n",
    "\n",
    "This example shows how to use the Magnet Segmentation Toolkit to segment\n",
    "your AEDT motor model."
   ]
  },
  {
   "cell_type": "markdown",
   "id": "29159515",
   "metadata": {},
   "source": [
    "## Perform required imports\n",
    "\n",
    "Perform required imports."
   ]
  },
  {
   "cell_type": "code",
   "execution_count": 1,
   "id": "ca38222e",
   "metadata": {
    "execution": {
     "iopub.execute_input": "2025-07-17T14:49:52.671048Z",
     "iopub.status.busy": "2025-07-17T14:49:52.671048Z",
     "iopub.status.idle": "2025-07-17T14:49:53.884567Z",
     "shell.execute_reply": "2025-07-17T14:49:53.884567Z"
    }
   },
   "outputs": [],
   "source": [
    "import os\n",
    "import shutil\n",
    "import tempfile\n",
    "\n",
    "from ansys.aedt.toolkits.common.utils import download_file\n",
    "\n",
    "from ansys.aedt.toolkits.magnet_segmentation.backend.api import ToolkitBackend\n"
   ]
  },
  {
   "cell_type": "markdown",
   "id": "08ff8c1b",
   "metadata": {},
   "source": [
    "## Initialize temporary folder and project settings\n",
    "\n",
    "Initialize a temporary folder to copy the input file into\n",
    "and specify project settings."
   ]
  },
  {
   "cell_type": "code",
   "execution_count": 2,
   "id": "8ca67743",
   "metadata": {
    "execution": {
     "iopub.execute_input": "2025-07-17T14:49:53.884567Z",
     "iopub.status.busy": "2025-07-17T14:49:53.884567Z",
     "iopub.status.idle": "2025-07-17T14:49:54.183382Z",
     "shell.execute_reply": "2025-07-17T14:49:54.183382Z"
    }
   },
   "outputs": [],
   "source": [
    "URL_BASE = \"https://raw.githubusercontent.com/ansys/example-data/master/toolkits/magnet_segmentation/\"\n",
    "AEDT_PROJECT = \"e9_eMobility_IPM_3D\"\n",
    "URL = os.path.join(URL_BASE, AEDT_PROJECT + \".aedt\")\n",
    "\n",
    "temp_dir = tempfile.TemporaryDirectory(suffix=\".ansys\")\n",
    "active_project = os.path.join(temp_dir.name, AEDT_PROJECT + \".aedt\")\n",
    "download_file(URL, active_project)\n",
    "active_design = \"e9_eMobility_IPM_3D_test\""
   ]
  },
  {
   "cell_type": "markdown",
   "id": "7da81de2",
   "metadata": {},
   "source": [
    "## Initialize toolkit\n",
    "\n",
    "Initialize the toolkit."
   ]
  },
  {
   "cell_type": "code",
   "execution_count": 3,
   "id": "6e8ee255",
   "metadata": {
    "execution": {
     "iopub.execute_input": "2025-07-17T14:49:54.183382Z",
     "iopub.status.busy": "2025-07-17T14:49:54.183382Z",
     "iopub.status.idle": "2025-07-17T14:49:54.190563Z",
     "shell.execute_reply": "2025-07-17T14:49:54.190563Z"
    }
   },
   "outputs": [],
   "source": [
    "toolkit = ToolkitBackend()"
   ]
  },
  {
   "cell_type": "markdown",
   "id": "c2788ebc",
   "metadata": {},
   "source": [
    "## Get toolkit properties\n",
    "\n",
    "Get the toolkit properties."
   ]
  },
  {
   "cell_type": "code",
   "execution_count": 4,
   "id": "2a4917ea",
   "metadata": {
    "execution": {
     "iopub.execute_input": "2025-07-17T14:49:54.190563Z",
     "iopub.status.busy": "2025-07-17T14:49:54.190563Z",
     "iopub.status.idle": "2025-07-17T14:49:54.196909Z",
     "shell.execute_reply": "2025-07-17T14:49:54.196909Z"
    }
   },
   "outputs": [],
   "source": [
    "properties = toolkit.get_properties()"
   ]
  },
  {
   "cell_type": "markdown",
   "id": "d4ce4e3f",
   "metadata": {},
   "source": [
    "## Initialize properties\n",
    "\n",
    "Initialize a dictionary of properties."
   ]
  },
  {
   "cell_type": "code",
   "execution_count": 5,
   "id": "e1f8a6a1",
   "metadata": {
    "execution": {
     "iopub.execute_input": "2025-07-17T14:49:54.196909Z",
     "iopub.status.busy": "2025-07-17T14:49:54.196909Z",
     "iopub.status.idle": "2025-07-17T14:49:54.203929Z",
     "shell.execute_reply": "2025-07-17T14:49:54.203929Z"
    }
   },
   "outputs": [],
   "source": [
    "properties[\"aedt_version\"] = \"2025.1\"\n",
    "properties[\"active_project\"] = AEDT_PROJECT\n",
    "properties[\"active_design\"] = active_design\n",
    "properties[\"design_list\"] = {AEDT_PROJECT: [active_design]}\n",
    "properties[\"is_skewed\"] = False\n",
    "properties[\"rotor_material\"] = \"M250-35A_20C\"\n",
    "properties[\"stator_material\"] = \"M250-35A_20C\"\n",
    "properties[\"magnets_material\"] = \"N30UH_65C\"\n",
    "properties[\"magnet_segments_per_slice\"] = 2\n",
    "properties[\"rotor_slices\"] = 2\n",
    "properties[\"apply_mesh_sheets\"] = False\n",
    "# properties[\"mesh_sheets_number\"] = 3\n",
    "properties[\"skew_angle\"] = \"2deg\""
   ]
  },
  {
   "cell_type": "markdown",
   "id": "070034ee",
   "metadata": {},
   "source": [
    "## Set non-graphical mode\n",
    "\n",
    "Set non-graphical mode. The default value is ``False``."
   ]
  },
  {
   "cell_type": "code",
   "execution_count": 6,
   "id": "791a1449",
   "metadata": {
    "execution": {
     "iopub.execute_input": "2025-07-17T14:49:54.203929Z",
     "iopub.status.busy": "2025-07-17T14:49:54.203929Z",
     "iopub.status.idle": "2025-07-17T14:49:54.209421Z",
     "shell.execute_reply": "2025-07-17T14:49:54.209421Z"
    }
   },
   "outputs": [],
   "source": [
    "properties[\"non_graphical\"] = False"
   ]
  },
  {
   "cell_type": "markdown",
   "id": "44a6fe6d",
   "metadata": {},
   "source": [
    "## Set properties\n",
    "\n",
    "Set properties."
   ]
  },
  {
   "cell_type": "code",
   "execution_count": 7,
   "id": "f43a135f",
   "metadata": {
    "execution": {
     "iopub.execute_input": "2025-07-17T14:49:54.209421Z",
     "iopub.status.busy": "2025-07-17T14:49:54.209421Z",
     "iopub.status.idle": "2025-07-17T14:49:54.221148Z",
     "shell.execute_reply": "2025-07-17T14:49:54.221148Z"
    }
   },
   "outputs": [
    {
     "name": "stderr",
     "output_type": "stream",
     "text": [
      "INFO - Updating internal properties.\n"
     ]
    },
    {
     "data": {
      "text/plain": [
       "(True, 'Properties were updated successfully.')"
      ]
     },
     "execution_count": 7,
     "metadata": {},
     "output_type": "execute_result"
    }
   ],
   "source": [
    "toolkit.set_properties(properties)"
   ]
  },
  {
   "cell_type": "markdown",
   "id": "89f45ab8",
   "metadata": {},
   "source": [
    "## Initialize AEDT\n",
    "\n",
    "Launch a new AEDT session."
   ]
  },
  {
   "cell_type": "code",
   "execution_count": 8,
   "id": "d97dc578",
   "metadata": {
    "execution": {
     "iopub.execute_input": "2025-07-17T14:49:54.221148Z",
     "iopub.status.busy": "2025-07-17T14:49:54.221148Z",
     "iopub.status.idle": "2025-07-17T14:49:59.681704Z",
     "shell.execute_reply": "2025-07-17T14:49:59.681704Z"
    }
   },
   "outputs": [
    {
     "name": "stderr",
     "output_type": "stream",
     "text": [
      "INFO - AEDT is released.\n"
     ]
    },
    {
     "data": {
      "text/plain": [
       "True"
      ]
     },
     "execution_count": 8,
     "metadata": {},
     "output_type": "execute_result"
    }
   ],
   "source": [
    "toolkit.launch_aedt()"
   ]
  },
  {
   "cell_type": "markdown",
   "id": "0f68ebff",
   "metadata": {},
   "source": [
    "## Open project\n",
    "\n",
    "Open the project."
   ]
  },
  {
   "cell_type": "code",
   "execution_count": 9,
   "id": "02b0b18f",
   "metadata": {
    "execution": {
     "iopub.execute_input": "2025-07-17T14:49:59.681704Z",
     "iopub.status.busy": "2025-07-17T14:49:59.681704Z",
     "iopub.status.idle": "2025-07-17T14:50:24.134645Z",
     "shell.execute_reply": "2025-07-17T14:50:24.134645Z"
    }
   },
   "outputs": [
    {
     "name": "stderr",
     "output_type": "stream",
     "text": [
      "INFO - Updating internal properties.\n"
     ]
    },
    {
     "name": "stderr",
     "output_type": "stream",
     "text": [
      "INFO - AEDT is released.\n"
     ]
    },
    {
     "data": {
      "text/plain": [
       "True"
      ]
     },
     "execution_count": 9,
     "metadata": {},
     "output_type": "execute_result"
    }
   ],
   "source": [
    "toolkit.open_project(active_project)"
   ]
  },
  {
   "cell_type": "markdown",
   "id": "b2486ae7",
   "metadata": {},
   "source": [
    "## Connect design\n",
    "\n",
    "Connect or create a new design."
   ]
  },
  {
   "cell_type": "code",
   "execution_count": 10,
   "id": "9f5e18c8",
   "metadata": {
    "execution": {
     "iopub.execute_input": "2025-07-17T14:50:24.134645Z",
     "iopub.status.busy": "2025-07-17T14:50:24.134645Z",
     "iopub.status.idle": "2025-07-17T14:50:24.268323Z",
     "shell.execute_reply": "2025-07-17T14:50:24.268323Z"
    }
   },
   "outputs": [
    {
     "name": "stderr",
     "output_type": "stream",
     "text": [
      "INFO - Toolkit is connected to AEDT design.\n"
     ]
    },
    {
     "data": {
      "text/plain": [
       "True"
      ]
     },
     "execution_count": 10,
     "metadata": {},
     "output_type": "execute_result"
    }
   ],
   "source": [
    "toolkit.connect_design()"
   ]
  },
  {
   "cell_type": "markdown",
   "id": "abaf1f64",
   "metadata": {},
   "source": [
    "## Apply segmentation\n",
    "\n",
    "Apply segmentation and assign the relative coordinate system."
   ]
  },
  {
   "cell_type": "code",
   "execution_count": 11,
   "id": "21fa397c",
   "metadata": {
    "execution": {
     "iopub.execute_input": "2025-07-17T14:50:24.268323Z",
     "iopub.status.busy": "2025-07-17T14:50:24.268323Z",
     "iopub.status.idle": "2025-07-17T14:50:48.423064Z",
     "shell.execute_reply": "2025-07-17T14:50:48.423064Z"
    }
   },
   "outputs": [
    {
     "name": "stderr",
     "output_type": "stream",
     "text": [
      "INFO - AEDT is released.\n"
     ]
    },
    {
     "name": "stderr",
     "output_type": "stream",
     "text": [
      "INFO - Toolkit is connected to AEDT design.\n"
     ]
    },
    {
     "name": "stderr",
     "output_type": "stream",
     "text": [
      "INFO - Updating internal properties.\n"
     ]
    },
    {
     "name": "stderr",
     "output_type": "stream",
     "text": [
      "INFO - Updating internal properties.\n"
     ]
    },
    {
     "name": "stderr",
     "output_type": "stream",
     "text": [
      "INFO - AEDT is released.\n"
     ]
    },
    {
     "data": {
      "text/plain": [
       "True"
      ]
     },
     "execution_count": 11,
     "metadata": {},
     "output_type": "execute_result"
    }
   ],
   "source": [
    "toolkit.segmentation()"
   ]
  },
  {
   "cell_type": "markdown",
   "id": "a8f64eff",
   "metadata": {},
   "source": [
    "## Apply skew angle\n",
    "\n",
    "Apply the skew angle to rotor slices."
   ]
  },
  {
   "cell_type": "code",
   "execution_count": 12,
   "id": "94f5d77f",
   "metadata": {
    "execution": {
     "iopub.execute_input": "2025-07-17T14:50:48.423064Z",
     "iopub.status.busy": "2025-07-17T14:50:48.423064Z",
     "iopub.status.idle": "2025-07-17T14:50:57.564641Z",
     "shell.execute_reply": "2025-07-17T14:50:57.564641Z"
    }
   },
   "outputs": [
    {
     "name": "stderr",
     "output_type": "stream",
     "text": [
      "INFO - Toolkit is connected to AEDT design.\n"
     ]
    },
    {
     "name": "stderr",
     "output_type": "stream",
     "text": [
      "INFO - AEDT is released.\n"
     ]
    },
    {
     "data": {
      "text/plain": [
       "True"
      ]
     },
     "execution_count": 12,
     "metadata": {},
     "output_type": "execute_result"
    }
   ],
   "source": [
    "toolkit.apply_skew()"
   ]
  },
  {
   "cell_type": "markdown",
   "id": "e2b3a8de",
   "metadata": {},
   "source": [
    "## Validate and analyze design\n",
    "\n",
    "Uncomment the line to validate and analyze the design."
   ]
  },
  {
   "cell_type": "markdown",
   "id": "829d31ba",
   "metadata": {},
   "source": [
    "toolkit.validate_and_analyze()"
   ]
  },
  {
   "cell_type": "markdown",
   "id": "cf09b15c",
   "metadata": {},
   "source": [
    "## Create magnet loss report\n",
    "\n",
    "Uncomment the lines to create magnet loss report and compute average value."
   ]
  },
  {
   "cell_type": "markdown",
   "id": "76918a6d",
   "metadata": {},
   "source": [
    "magnet_loss = toolkit.get_magnet_loss()\n",
    "print(f\"Average magnet loss: {magnet_loss} W\")"
   ]
  },
  {
   "cell_type": "markdown",
   "id": "aef7b669",
   "metadata": {},
   "source": [
    "## Save and release AEDT\n",
    "\n",
    "Save and release AEDT."
   ]
  },
  {
   "cell_type": "markdown",
   "id": "7be23390",
   "metadata": {},
   "source": [
    "toolkit.save_project()"
   ]
  },
  {
   "cell_type": "code",
   "execution_count": 13,
   "id": "60e8973d",
   "metadata": {
    "execution": {
     "iopub.execute_input": "2025-07-17T14:50:57.564641Z",
     "iopub.status.busy": "2025-07-17T14:50:57.564641Z",
     "iopub.status.idle": "2025-07-17T14:51:02.775671Z",
     "shell.execute_reply": "2025-07-17T14:51:02.775671Z"
    }
   },
   "outputs": [
    {
     "name": "stderr",
     "output_type": "stream",
     "text": [
      "INFO - AEDT is released.\n"
     ]
    },
    {
     "data": {
      "text/plain": [
       "True"
      ]
     },
     "execution_count": 13,
     "metadata": {},
     "output_type": "execute_result"
    }
   ],
   "source": [
    "toolkit.release_aedt(True, True)"
   ]
  },
  {
   "cell_type": "markdown",
   "id": "b510a25c",
   "metadata": {},
   "source": [
    "## Remove temporary folder\n",
    "\n",
    "Remove the temporary folder."
   ]
  },
  {
   "cell_type": "code",
   "execution_count": 14,
   "id": "17d4e94a",
   "metadata": {
    "execution": {
     "iopub.execute_input": "2025-07-17T14:51:02.775671Z",
     "iopub.status.busy": "2025-07-17T14:51:02.775671Z",
     "iopub.status.idle": "2025-07-17T14:51:02.804466Z",
     "shell.execute_reply": "2025-07-17T14:51:02.804466Z"
    }
   },
   "outputs": [],
   "source": [
    "shutil.rmtree(temp_dir.name, ignore_errors=True)"
   ]
  }
 ],
 "metadata": {
  "jupytext": {
   "cell_metadata_filter": "-all",
   "main_language": "python",
   "notebook_metadata_filter": "-all",
   "text_representation": {
    "extension": ".py",
    "format_name": "light"
   }
  },
  "language_info": {
   "codemirror_mode": {
    "name": "ipython",
    "version": 3
   },
   "file_extension": ".py",
   "mimetype": "text/x-python",
   "name": "python",
   "nbconvert_exporter": "python",
   "pygments_lexer": "ipython3",
   "version": "3.12.10"
  }
 },
 "nbformat": 4,
 "nbformat_minor": 5
}
