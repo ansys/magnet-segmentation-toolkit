{
 "cells": [
  {
   "cell_type": "markdown",
   "id": "edd28124",
   "metadata": {},
   "source": [
    "\n",
    "Copyright (C) 2023 - 2025 ANSYS, Inc. and/or its affiliates.\n",
    "SPDX-License-Identifier: MIT\n",
    "\n",
    "\n",
    "Permission is hereby granted, free of charge, to any person obtaining a copy\n",
    "of this software and associated documentation files (the \"Software\"), to deal\n",
    "in the Software without restriction, including without limitation the rights\n",
    "to use, copy, modify, merge, publish, distribute, sublicense, and/or sell\n",
    "copies of the Software, and to permit persons to whom the Software is\n",
    "furnished to do so, subject to the following conditions:\n",
    "\n",
    "The above copyright notice and this permission notice shall be included in all\n",
    "copies or substantial portions of the Software.\n",
    "\n",
    "THE SOFTWARE IS PROVIDED \"AS IS\", WITHOUT WARRANTY OF ANY KIND, EXPRESS OR\n",
    "IMPLIED, INCLUDING BUT NOT LIMITED TO THE WARRANTIES OF MERCHANTABILITY,\n",
    "FITNESS FOR A PARTICULAR PURPOSE AND NONINFRINGEMENT. IN NO EVENT SHALL THE\n",
    "AUTHORS OR COPYRIGHT HOLDERS BE LIABLE FOR ANY CLAIM, DAMAGES OR OTHER\n",
    "LIABILITY, WHETHER IN AN ACTION OF CONTRACT, TORT OR OTHERWISE, ARISING FROM,\n",
    "OUT OF OR IN CONNECTION WITH THE SOFTWARE OR THE USE OR OTHER DEALINGS IN THE\n",
    "SOFTWARE."
   ]
  },
  {
   "cell_type": "markdown",
   "id": "a0c91ab7",
   "metadata": {},
   "source": [
    "# Maxwell 3D segmentation\n",
    "\n",
    "This example shows how to use the Magnet Segmentation Toolkit to segment\n",
    "your AEDT motor model."
   ]
  },
  {
   "cell_type": "markdown",
   "id": "fb3de6f1",
   "metadata": {},
   "source": [
    "## Perform required imports\n",
    "\n",
    "Perform required imports."
   ]
  },
  {
   "cell_type": "code",
   "execution_count": 1,
   "id": "b8d40f10",
   "metadata": {
    "execution": {
     "iopub.execute_input": "2025-05-08T19:51:44.780729Z",
     "iopub.status.busy": "2025-05-08T19:51:44.780729Z",
     "iopub.status.idle": "2025-05-08T19:51:45.905686Z",
     "shell.execute_reply": "2025-05-08T19:51:45.905686Z"
    }
   },
   "outputs": [],
   "source": [
    "import os\n",
    "import shutil\n",
    "import tempfile\n",
    "\n",
    "from ansys.aedt.toolkits.common.utils import download_file\n",
    "\n",
    "from ansys.aedt.toolkits.magnet_segmentation.backend.api import ToolkitBackend\n"
   ]
  },
  {
   "cell_type": "markdown",
   "id": "949161fe",
   "metadata": {},
   "source": [
    "## Initialize temporary folder and project settings\n",
    "\n",
    "Initialize a temporary folder to copy the input file into\n",
    "and specify project settings."
   ]
  },
  {
   "cell_type": "code",
   "execution_count": 2,
   "id": "7b0309ab",
   "metadata": {
    "execution": {
     "iopub.execute_input": "2025-05-08T19:51:45.905686Z",
     "iopub.status.busy": "2025-05-08T19:51:45.905686Z",
     "iopub.status.idle": "2025-05-08T19:51:46.296376Z",
     "shell.execute_reply": "2025-05-08T19:51:46.296376Z"
    }
   },
   "outputs": [],
   "source": [
    "URL_BASE = \"https://raw.githubusercontent.com/ansys/example-data/master/toolkits/magnet_segmentation/\"\n",
    "AEDT_PROJECT = \"e9_eMobility_IPM_3D\"\n",
    "URL = os.path.join(URL_BASE, AEDT_PROJECT + \".aedt\")\n",
    "\n",
    "temp_dir = tempfile.TemporaryDirectory(suffix=\".ansys\")\n",
    "active_project = os.path.join(temp_dir.name, AEDT_PROJECT + \".aedt\")\n",
    "download_file(URL, active_project)\n",
    "active_design = \"e9_eMobility_IPM_3D_test\""
   ]
  },
  {
   "cell_type": "markdown",
   "id": "8dacbd2c",
   "metadata": {},
   "source": [
    "## Initialize toolkit\n",
    "\n",
    "Initialize the toolkit."
   ]
  },
  {
   "cell_type": "code",
   "execution_count": 3,
   "id": "cd2c9d4d",
   "metadata": {
    "execution": {
     "iopub.execute_input": "2025-05-08T19:51:46.296376Z",
     "iopub.status.busy": "2025-05-08T19:51:46.296376Z",
     "iopub.status.idle": "2025-05-08T19:51:46.311996Z",
     "shell.execute_reply": "2025-05-08T19:51:46.311996Z"
    }
   },
   "outputs": [],
   "source": [
    "toolkit = ToolkitBackend()"
   ]
  },
  {
   "cell_type": "markdown",
   "id": "8af0a9a3",
   "metadata": {},
   "source": [
    "## Get toolkit properties\n",
    "\n",
    "Get the toolkit properties."
   ]
  },
  {
   "cell_type": "code",
   "execution_count": 4,
   "id": "ef40aa76",
   "metadata": {
    "execution": {
     "iopub.execute_input": "2025-05-08T19:51:46.311996Z",
     "iopub.status.busy": "2025-05-08T19:51:46.311996Z",
     "iopub.status.idle": "2025-05-08T19:51:46.327654Z",
     "shell.execute_reply": "2025-05-08T19:51:46.327654Z"
    }
   },
   "outputs": [],
   "source": [
    "properties = toolkit.get_properties()"
   ]
  },
  {
   "cell_type": "markdown",
   "id": "4a1d83a9",
   "metadata": {},
   "source": [
    "## Initialize properties\n",
    "\n",
    "Initialize a dictionary of properties."
   ]
  },
  {
   "cell_type": "code",
   "execution_count": 5,
   "id": "f6aa182f",
   "metadata": {
    "execution": {
     "iopub.execute_input": "2025-05-08T19:51:46.327654Z",
     "iopub.status.busy": "2025-05-08T19:51:46.327654Z",
     "iopub.status.idle": "2025-05-08T19:51:46.343271Z",
     "shell.execute_reply": "2025-05-08T19:51:46.343271Z"
    }
   },
   "outputs": [],
   "source": [
    "properties[\"aedt_version\"] = \"2025.1\"\n",
    "properties[\"active_project\"] = AEDT_PROJECT\n",
    "properties[\"active_design\"] = active_design\n",
    "properties[\"design_list\"] = {AEDT_PROJECT: [active_design]}\n",
    "properties[\"is_skewed\"] = False\n",
    "properties[\"rotor_material\"] = \"M250-35A_20C\"\n",
    "properties[\"stator_material\"] = \"M250-35A_20C\"\n",
    "properties[\"magnets_material\"] = \"N30UH_65C\"\n",
    "properties[\"magnet_segments_per_slice\"] = 2\n",
    "properties[\"rotor_slices\"] = 2\n",
    "properties[\"apply_mesh_sheets\"] = False\n",
    "# properties[\"mesh_sheets_number\"] = 3\n",
    "properties[\"skew_angle\"] = \"2deg\""
   ]
  },
  {
   "cell_type": "markdown",
   "id": "c0a1001e",
   "metadata": {},
   "source": [
    "## Set non-graphical mode\n",
    "\n",
    "Set non-graphical mode. The default value is ``False``."
   ]
  },
  {
   "cell_type": "code",
   "execution_count": 6,
   "id": "44775bf6",
   "metadata": {
    "execution": {
     "iopub.execute_input": "2025-05-08T19:51:46.343271Z",
     "iopub.status.busy": "2025-05-08T19:51:46.343271Z",
     "iopub.status.idle": "2025-05-08T19:51:46.358921Z",
     "shell.execute_reply": "2025-05-08T19:51:46.358921Z"
    }
   },
   "outputs": [],
   "source": [
    "properties[\"non_graphical\"] = False"
   ]
  },
  {
   "cell_type": "markdown",
   "id": "0ed67878",
   "metadata": {},
   "source": [
    "## Set properties\n",
    "\n",
    "Set properties."
   ]
  },
  {
   "cell_type": "code",
   "execution_count": 7,
   "id": "323fb6ce",
   "metadata": {
    "execution": {
     "iopub.execute_input": "2025-05-08T19:51:46.358921Z",
     "iopub.status.busy": "2025-05-08T19:51:46.358921Z",
     "iopub.status.idle": "2025-05-08T19:51:46.390132Z",
     "shell.execute_reply": "2025-05-08T19:51:46.390132Z"
    }
   },
   "outputs": [
    {
     "name": "stderr",
     "output_type": "stream",
     "text": [
      "INFO - Updating internal properties.\n"
     ]
    },
    {
     "data": {
      "text/plain": [
       "(True, 'Properties were updated successfully.')"
      ]
     },
     "execution_count": 7,
     "metadata": {},
     "output_type": "execute_result"
    }
   ],
   "source": [
    "toolkit.set_properties(properties)"
   ]
  },
  {
   "cell_type": "markdown",
   "id": "6aedbf69",
   "metadata": {},
   "source": [
    "## Initialize AEDT\n",
    "\n",
    "Launch a new AEDT session."
   ]
  },
  {
   "cell_type": "code",
   "execution_count": 8,
   "id": "0c7b4411",
   "metadata": {
    "execution": {
     "iopub.execute_input": "2025-05-08T19:51:46.390132Z",
     "iopub.status.busy": "2025-05-08T19:51:46.390132Z",
     "iopub.status.idle": "2025-05-08T19:51:52.831580Z",
     "shell.execute_reply": "2025-05-08T19:51:52.830493Z"
    }
   },
   "outputs": [
    {
     "name": "stderr",
     "output_type": "stream",
     "text": [
      "INFO - AEDT is released.\n"
     ]
    },
    {
     "data": {
      "text/plain": [
       "True"
      ]
     },
     "execution_count": 8,
     "metadata": {},
     "output_type": "execute_result"
    }
   ],
   "source": [
    "toolkit.launch_aedt()"
   ]
  },
  {
   "cell_type": "markdown",
   "id": "174d977c",
   "metadata": {},
   "source": [
    "## Open project\n",
    "\n",
    "Open the project."
   ]
  },
  {
   "cell_type": "code",
   "execution_count": 9,
   "id": "4d105162",
   "metadata": {
    "execution": {
     "iopub.execute_input": "2025-05-08T19:51:52.832621Z",
     "iopub.status.busy": "2025-05-08T19:51:52.832621Z",
     "iopub.status.idle": "2025-05-08T19:52:17.459462Z",
     "shell.execute_reply": "2025-05-08T19:52:17.459462Z"
    }
   },
   "outputs": [
    {
     "name": "stderr",
     "output_type": "stream",
     "text": [
      "INFO - Updating internal properties.\n"
     ]
    },
    {
     "name": "stderr",
     "output_type": "stream",
     "text": [
      "INFO - AEDT is released.\n"
     ]
    },
    {
     "data": {
      "text/plain": [
       "True"
      ]
     },
     "execution_count": 9,
     "metadata": {},
     "output_type": "execute_result"
    }
   ],
   "source": [
    "toolkit.open_project(active_project)"
   ]
  },
  {
   "cell_type": "markdown",
   "id": "0855364d",
   "metadata": {},
   "source": [
    "## Connect design\n",
    "\n",
    "Connect or create a new design."
   ]
  },
  {
   "cell_type": "code",
   "execution_count": 10,
   "id": "f3e55809",
   "metadata": {
    "execution": {
     "iopub.execute_input": "2025-05-08T19:52:17.459462Z",
     "iopub.status.busy": "2025-05-08T19:52:17.459462Z",
     "iopub.status.idle": "2025-05-08T19:52:17.586599Z",
     "shell.execute_reply": "2025-05-08T19:52:17.586599Z"
    }
   },
   "outputs": [
    {
     "name": "stderr",
     "output_type": "stream",
     "text": [
      "INFO - Toolkit is connected to AEDT design.\n"
     ]
    },
    {
     "data": {
      "text/plain": [
       "True"
      ]
     },
     "execution_count": 10,
     "metadata": {},
     "output_type": "execute_result"
    }
   ],
   "source": [
    "toolkit.connect_design()"
   ]
  },
  {
   "cell_type": "markdown",
   "id": "114b3af5",
   "metadata": {},
   "source": [
    "## Apply segmentation\n",
    "\n",
    "Apply segmentation and assign the relative coordinate system."
   ]
  },
  {
   "cell_type": "code",
   "execution_count": 11,
   "id": "7bc7e935",
   "metadata": {
    "execution": {
     "iopub.execute_input": "2025-05-08T19:52:17.586599Z",
     "iopub.status.busy": "2025-05-08T19:52:17.586599Z",
     "iopub.status.idle": "2025-05-08T19:52:58.320671Z",
     "shell.execute_reply": "2025-05-08T19:52:58.320671Z"
    }
   },
   "outputs": [
    {
     "name": "stderr",
     "output_type": "stream",
     "text": [
      "INFO - AEDT is released.\n"
     ]
    },
    {
     "name": "stderr",
     "output_type": "stream",
     "text": [
      "INFO - Toolkit is connected to AEDT design.\n"
     ]
    },
    {
     "name": "stderr",
     "output_type": "stream",
     "text": [
      "INFO - Updating internal properties.\n"
     ]
    },
    {
     "name": "stderr",
     "output_type": "stream",
     "text": [
      "INFO - Updating internal properties.\n"
     ]
    },
    {
     "name": "stderr",
     "output_type": "stream",
     "text": [
      "INFO - AEDT is released.\n"
     ]
    },
    {
     "data": {
      "text/plain": [
       "True"
      ]
     },
     "execution_count": 11,
     "metadata": {},
     "output_type": "execute_result"
    }
   ],
   "source": [
    "toolkit.segmentation()"
   ]
  },
  {
   "cell_type": "markdown",
   "id": "b2cdff1c",
   "metadata": {},
   "source": [
    "## Apply skew angle\n",
    "\n",
    "Apply the skew angle to rotor slices."
   ]
  },
  {
   "cell_type": "code",
   "execution_count": 12,
   "id": "0fa1475b",
   "metadata": {
    "execution": {
     "iopub.execute_input": "2025-05-08T19:52:58.320671Z",
     "iopub.status.busy": "2025-05-08T19:52:58.320671Z",
     "iopub.status.idle": "2025-05-08T19:53:07.034361Z",
     "shell.execute_reply": "2025-05-08T19:53:07.034361Z"
    }
   },
   "outputs": [
    {
     "name": "stderr",
     "output_type": "stream",
     "text": [
      "INFO - Toolkit is connected to AEDT design.\n"
     ]
    },
    {
     "name": "stderr",
     "output_type": "stream",
     "text": [
      "INFO - AEDT is released.\n"
     ]
    },
    {
     "data": {
      "text/plain": [
       "True"
      ]
     },
     "execution_count": 12,
     "metadata": {},
     "output_type": "execute_result"
    }
   ],
   "source": [
    "toolkit.apply_skew()"
   ]
  },
  {
   "cell_type": "markdown",
   "id": "dd254fb3",
   "metadata": {},
   "source": [
    "## Validate and analyze design\n",
    "\n",
    "Uncomment the line to validate and analyze the design."
   ]
  },
  {
   "cell_type": "markdown",
   "id": "f4a437f9",
   "metadata": {},
   "source": [
    "toolkit.validate_and_analyze()"
   ]
  },
  {
   "cell_type": "markdown",
   "id": "54f4752e",
   "metadata": {},
   "source": [
    "## Create magnet loss report\n",
    "\n",
    "Uncomment the lines to create magnet loss report and compute average value."
   ]
  },
  {
   "cell_type": "markdown",
   "id": "47500e36",
   "metadata": {},
   "source": [
    "magnet_loss = toolkit.get_magnet_loss()\n",
    "print(f\"Average magnet loss: {magnet_loss} W\")"
   ]
  },
  {
   "cell_type": "markdown",
   "id": "32bbd86c",
   "metadata": {},
   "source": [
    "## Save and release AEDT\n",
    "\n",
    "Save and release AEDT."
   ]
  },
  {
   "cell_type": "markdown",
   "id": "e90950c7",
   "metadata": {},
   "source": [
    "toolkit.save_project()"
   ]
  },
  {
   "cell_type": "code",
   "execution_count": 13,
   "id": "533d150b",
   "metadata": {
    "execution": {
     "iopub.execute_input": "2025-05-08T19:53:07.034361Z",
     "iopub.status.busy": "2025-05-08T19:53:07.034361Z",
     "iopub.status.idle": "2025-05-08T19:53:16.258449Z",
     "shell.execute_reply": "2025-05-08T19:53:16.258449Z"
    }
   },
   "outputs": [
    {
     "name": "stderr",
     "output_type": "stream",
     "text": [
      "INFO - AEDT is released.\n"
     ]
    },
    {
     "data": {
      "text/plain": [
       "True"
      ]
     },
     "execution_count": 13,
     "metadata": {},
     "output_type": "execute_result"
    }
   ],
   "source": [
    "toolkit.release_aedt(True, True)"
   ]
  },
  {
   "cell_type": "markdown",
   "id": "155331d1",
   "metadata": {},
   "source": [
    "## Remove temporary folder\n",
    "\n",
    "Remove the temporary folder."
   ]
  },
  {
   "cell_type": "code",
   "execution_count": 14,
   "id": "5f5cf569",
   "metadata": {
    "execution": {
     "iopub.execute_input": "2025-05-08T19:53:16.258449Z",
     "iopub.status.busy": "2025-05-08T19:53:16.258449Z",
     "iopub.status.idle": "2025-05-08T19:53:16.305354Z",
     "shell.execute_reply": "2025-05-08T19:53:16.305354Z"
    }
   },
   "outputs": [],
   "source": [
    "shutil.rmtree(temp_dir.name, ignore_errors=True)"
   ]
  }
 ],
 "metadata": {
  "jupytext": {
   "cell_metadata_filter": "-all",
   "encoding": "# -*- coding: utf-8 -*-",
   "main_language": "python",
   "notebook_metadata_filter": "-all",
   "text_representation": {
    "extension": ".py",
    "format_name": "light"
   }
  },
  "language_info": {
   "codemirror_mode": {
    "name": "ipython",
    "version": 3
   },
   "file_extension": ".py",
   "mimetype": "text/x-python",
   "name": "python",
   "nbconvert_exporter": "python",
   "pygments_lexer": "ipython3",
   "version": "3.10.11"
  }
 },
 "nbformat": 4,
 "nbformat_minor": 5
}
